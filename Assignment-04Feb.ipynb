{
 "cells": [
  {
   "cell_type": "markdown",
   "id": "0ce0fd96-2acf-4552-9c1f-bef23a1e7379",
   "metadata": {},
   "source": [
    "Q1. Create a python program to sort the given list of tuples based on integer value using a\n",
    "lambda function. \n",
    "\n",
    "[('Sachin Tendulkar', 34357), ('Ricky Ponting', 27483), ('Jack Kallis', 25534), ('Virat Kohli', 24936)]"
   ]
  },
  {
   "cell_type": "code",
   "execution_count": 28,
   "id": "d54c826d-3f37-45c1-97dd-de49da616e5f",
   "metadata": {},
   "outputs": [
    {
     "name": "stdout",
     "output_type": "stream",
     "text": [
      "[('Virat Kohli', 24936), ('Jack Kallis', 25534), ('Ricky Ponting', 27483), ('Sachin Tendulkar', 34357)]\n"
     ]
    }
   ],
   "source": [
    "list=[('Sachin Tendulkar', 34357), ('Ricky Ponting', 27483), ('Jack Kallis', 25534), ('Virat Kohli', 24936)]\n",
    "sorted_list = sorted(list, key=lambda x: x[1])\n",
    "\n",
    "print(sorted_list)\n",
    "\n"
   ]
  },
  {
   "cell_type": "markdown",
   "id": "607ba0e1-2cf4-46f7-8793-50d2ce36415c",
   "metadata": {},
   "source": [
    "Q2. Write a Python Program to find the squares of all the numbers in the given list of integers using\n",
    "lambda and map functions.\n",
    "\n",
    "[1, 2, 3, 4, 5, 6, 7, 8, 9, 10]"
   ]
  },
  {
   "cell_type": "code",
   "execution_count": 17,
   "id": "2e3acee9-fec9-41eb-a5ee-b78e4321be1e",
   "metadata": {},
   "outputs": [],
   "source": [
    "l= [1,2,3,4,5,6,7,8,9,10]"
   ]
  },
  {
   "cell_type": "code",
   "execution_count": 21,
   "id": "513d2898-285e-403f-9893-992aae6303fc",
   "metadata": {},
   "outputs": [
    {
     "data": {
      "text/plain": [
       "[1, 4, 9, 16, 25, 36, 49, 64, 81, 100]"
      ]
     },
     "execution_count": 21,
     "metadata": {},
     "output_type": "execute_result"
    }
   ],
   "source": [
    "list(map(lambda x: x*x,l))"
   ]
  },
  {
   "cell_type": "markdown",
   "id": "f19cfaac-8464-49d3-a0d3-220be9e5c1e7",
   "metadata": {},
   "source": [
    "Q3. Write a python program to convert the given list of integers into a tuple of strings. Use map and\n",
    "lambda functions\n",
    "\n",
    "Given String: [1, 2, 3, 4, 5, 6, 7, 8, 9, 10]\n",
    "\n",
    "Expected output: ('1', '2', '3', '4', '5', '6', '7', '8', '9', '10')"
   ]
  },
  {
   "cell_type": "code",
   "execution_count": 2,
   "id": "01d0a2ae-6a66-417c-b103-bd5946936586",
   "metadata": {},
   "outputs": [],
   "source": [
    "l= [1,2,3,4,5,6,7,8,9,10]"
   ]
  },
  {
   "cell_type": "code",
   "execution_count": 9,
   "id": "3f931930-9f64-4fc1-940f-ca3941cf4f94",
   "metadata": {},
   "outputs": [
    {
     "data": {
      "text/plain": [
       "('1', '2', '3', '4', '5', '6', '7', '8', '9', '10')"
      ]
     },
     "execution_count": 9,
     "metadata": {},
     "output_type": "execute_result"
    }
   ],
   "source": [
    "tuple(map(str, l))"
   ]
  },
  {
   "cell_type": "markdown",
   "id": "385109a8-577d-4c6c-85b3-2c07a70eea19",
   "metadata": {},
   "source": [
    "Q4. Write a python program using reduce function to compute the product of a list containing numbers\n",
    "from 1 to 25."
   ]
  },
  {
   "cell_type": "code",
   "execution_count": 61,
   "id": "8cbce270-a83d-4d94-8aa9-ab957d1fac36",
   "metadata": {},
   "outputs": [],
   "source": [
    "from functools import reduce"
   ]
  },
  {
   "cell_type": "code",
   "execution_count": 62,
   "id": "9c26b5ed-9dca-4328-823a-38ad34f2ca75",
   "metadata": {},
   "outputs": [],
   "source": [
    "l=[1,2,3,4,5,6,7,8,9,10,11,12,13,1,4,15,16,171,18,19,20,21,22,23,24,25]"
   ]
  },
  {
   "cell_type": "code",
   "execution_count": 63,
   "id": "494e443a-59ea-48f1-ac43-d26b6b35cee4",
   "metadata": {},
   "outputs": [
    {
     "data": {
      "text/plain": [
       "44578435586715942912000000"
      ]
     },
     "execution_count": 63,
     "metadata": {},
     "output_type": "execute_result"
    }
   ],
   "source": [
    "reduce(lambda x,y: x*y, l)"
   ]
  },
  {
   "cell_type": "markdown",
   "id": "813af813-55a3-4398-b16d-28ff9de9df45",
   "metadata": {},
   "source": [
    "Q5. Write a python program to filter the numbers in a given list that are divisible by 2 and 3 using the\n",
    "filter function.\n",
    "\n",
    "[2, 3, 6, 9, 27, 60, 90, 120, 55, 46]"
   ]
  },
  {
   "cell_type": "code",
   "execution_count": 64,
   "id": "af190ea2-d4de-4994-9ce5-56b677ce4110",
   "metadata": {},
   "outputs": [],
   "source": [
    "l=[2, 3, 6, 9, 27, 60, 90, 120, 55, 46]"
   ]
  },
  {
   "cell_type": "code",
   "execution_count": 65,
   "id": "fff9eb4b-a5f3-4ce7-966b-4776fd63c60d",
   "metadata": {},
   "outputs": [
    {
     "data": {
      "text/plain": [
       "[6, 60, 90, 120]"
      ]
     },
     "execution_count": 65,
     "metadata": {},
     "output_type": "execute_result"
    }
   ],
   "source": [
    "list(filter(lambda x: x%2 ==0 and x%3==0, l))"
   ]
  },
  {
   "cell_type": "markdown",
   "id": "59a035ea-b68a-4f18-b815-ec5b3d88c8ea",
   "metadata": {},
   "source": [
    "Q6. Write a python program to find palindromes in the given list of strings using lambda and filter\n",
    "function.\n",
    "\n",
    "['python', 'php', 'aba', 'radar', 'level']"
   ]
  },
  {
   "cell_type": "code",
   "execution_count": 2,
   "id": "70ef79a2-e5fa-49f8-866d-54afb27c6f9d",
   "metadata": {},
   "outputs": [],
   "source": [
    "l= ['python', 'php', 'aba', 'radar', 'level']"
   ]
  },
  {
   "cell_type": "code",
   "execution_count": 5,
   "id": "fa02a61c-7622-4d5a-be66-eb6847cdbbd7",
   "metadata": {},
   "outputs": [
    {
     "data": {
      "text/plain": [
       "['php', 'aba', 'radar', 'level']"
      ]
     },
     "execution_count": 5,
     "metadata": {},
     "output_type": "execute_result"
    }
   ],
   "source": [
    "list(filter(lambda x: x == \"\".join(reversed(x)), l))"
   ]
  },
  {
   "cell_type": "code",
   "execution_count": null,
   "id": "279e085f-2ba0-4de2-a21a-217382e6cd6d",
   "metadata": {},
   "outputs": [],
   "source": []
  }
 ],
 "metadata": {
  "kernelspec": {
   "display_name": "Python 3 (ipykernel)",
   "language": "python",
   "name": "python3"
  },
  "language_info": {
   "codemirror_mode": {
    "name": "ipython",
    "version": 3
   },
   "file_extension": ".py",
   "mimetype": "text/x-python",
   "name": "python",
   "nbconvert_exporter": "python",
   "pygments_lexer": "ipython3",
   "version": "3.10.8"
  }
 },
 "nbformat": 4,
 "nbformat_minor": 5
}
